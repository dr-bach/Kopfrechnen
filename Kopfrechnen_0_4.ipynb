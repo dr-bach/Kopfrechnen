{
  "nbformat": 4,
  "nbformat_minor": 0,
  "metadata": {
    "colab": {
      "provenance": [],
      "collapsed_sections": [],
      "authorship_tag": "ABX9TyN3iuGLMISExB3rCRT2buxi",
      "include_colab_link": true
    },
    "kernelspec": {
      "name": "python3",
      "display_name": "Python 3"
    },
    "language_info": {
      "name": "python"
    }
  },
  "cells": [
    {
      "cell_type": "markdown",
      "metadata": {
        "id": "view-in-github",
        "colab_type": "text"
      },
      "source": [
        "<a href=\"https://colab.research.google.com/github/dr-bach/python/blob/main/Kopfrechnen_Version_0_4.ipynb\" target=\"_parent\"><img src=\"https://colab.research.google.com/assets/colab-badge.svg\" alt=\"Open In Colab\"/></a>"
      ]
    },
    {
      "cell_type": "markdown",
      "source": [
        "##Kopfrechnen Version 0.4\n",
        "- Multiplikation (das kleine Einmaleins) und Division\n",
        "- Flexible Anzahl von Aufgaben (Beenden durch ENTER ohne Ergebnis)\n",
        "- Graphische Darstellung der richtig gerechneten Aufgaben)"
      ],
      "metadata": {
        "id": "8LwF19GS9NTD"
      }
    },
    {
      "cell_type": "markdown",
      "source": [
        "Wir erweitern die Rechenarten um Multiplikation (das kleine Einmaleins) und Division. Die Division wird mit einem Zwischenschritt realisiert, der einer umgekehrten Multiplikation entspricht. Zusätzlich erweitern wir den Zahlenraum für Addition und Subtraktion bis 100 (angleichen an die Multiplikation 10*10=100).<br>\n",
        "Um bei der Eingabe nicht nur das Ergebnis der jeweiligen Aufgabe sondern noch ein Abbruchcode eingegeben werden soll, teilen wir die ehemalige Funktion `eingabe_bewerten (ergebnis)` auf zwei einzelne auf, `abfrage()` und `bewerten (ergebnis, eingabe)`.\n",
        "\n",
        "Außerdem erzeugen wir eine erste graphische Darstellung am Beispiel eines Kreis- bzw. Tortendiagrammes. Dazu werden die Ergebnisse in Form eines DataFrames abgelegt, die von der zugehörigen Plot-Funktion dargestellt werden kann. Wir wählen dieses Vorgehen, da wir diese Datenstruktur bei späteren Revisionen immer häufiger verwenden werden."
      ],
      "metadata": {
        "id": "m9tRtEKKCR74"
      }
    },
    {
      "cell_type": "code",
      "source": [
        "#@title Code Kopfrechnen 0.4\n",
        "\n",
        "#initialisierungen\n",
        "\n",
        "import random\n",
        "\n",
        "\n",
        "#aufgabe erstellen\n",
        "\n",
        "def aufgabe_stellen():\n",
        "  rechenart=random.choice([\"+\",\"-\",\"*\",\":\"])\n",
        "  if rechenart == \"+\":\n",
        "    (a,b,ergebnis) = addition(1,100)\n",
        "  elif rechenart == \"-\":\n",
        "    (a,b,ergebnis) = subtraktion(1,100)\n",
        "  elif rechenart == \"*\":\n",
        "    (a,b,ergebnis) = multiplikation(1,10)\n",
        "  else:  #rechenart == \":\"\n",
        "    (a,b,ergebnis) = division(1,10)\n",
        "  print (f\"wieviel ist {a} {rechenart} {b}?\")\n",
        "  return ergebnis\n",
        "\n",
        "def zufallszahlen(min, max):\n",
        "  return(random.randint(min, max),random.randint(min, max))\n",
        "\n",
        "def addition(min, max):\n",
        "  while True:\n",
        "    (a,b)=zufallszahlen(min,max)\n",
        "    if (a+b)<=max:\n",
        "      break\n",
        "  return (a,b,a+b)\n",
        "\n",
        "def subtraktion(min, max):\n",
        "  while True:\n",
        "    (a,b)=zufallszahlen(min,max)\n",
        "    if (a-b)>=min:\n",
        "      break\n",
        "  return (a,b,a-b)\n",
        "\n",
        "def multiplikation(min, max):\n",
        "  (a,b)=zufallszahlen(min,max)\n",
        "  return (a,b,a*b)\n",
        "\n",
        "def division(min, max):\n",
        "  while True:\n",
        "    (a,b)=zufallszahlen(min,max)\n",
        "    dividend=a*b\n",
        "    if (a*b)<=max*max:\n",
        "      break\n",
        "  return (dividend,b,a)\n",
        "\n",
        "\n",
        "#eingabe bewerten\n",
        "\n",
        "def abfrage():\n",
        "  while True:\n",
        "    try:\n",
        "      text = input(\"Dein Ergebnis = \")\n",
        "      if text==\"\":\n",
        "        return -1\n",
        "      eingabe = int(text)\n",
        "      break\n",
        "    except ValueError:\n",
        "      print(\"Bitte eine Zahl eingeben\")     \n",
        "  return eingabe\n",
        "\n",
        "def bewerten (ergebnis, eingabe):\n",
        "  if ergebnis==eingabe:\n",
        "    print(\"Richtig\\n\")\n",
        "    return 1\n",
        "  elif ergebnis<0:\n",
        "    return -1\n",
        "  else:\n",
        "    print(f\"{eingabe} ist falsch. Das richtige Ergebnis lautet {ergebnis}\\n\")\n",
        "    return 0\n",
        "\n",
        "def chart_pie(richtig, falsch):\n",
        "  import pandas as pd\n",
        "  data = [['richtig', richtig], ['falsch', falsch]]\n",
        "  df = pd.DataFrame(data, columns=['Bewertung','Anzahl'])\n",
        "  df.plot.pie(y='Anzahl', labels=df['Bewertung'], colors = ('lightgreen','red'),\n",
        "              autopct='%.0f%%', startangle=60)\n",
        "\n",
        "\n",
        "#hauptprogramm\n",
        "\n",
        "def spielen():\n",
        "  runden=0\n",
        "  richtig=0\n",
        "  print(\"Willkommen beim Kopfrechnen. Dir werden verschiedene Aufgaben gestellt.\",\n",
        "        \"Wenn Du das Spiel beenden willst, drücke statt der Antwort nur die ENTER-Taste.\")\n",
        "  while True:\n",
        "      ergebnis=aufgabe_stellen()\n",
        "      eingabe=abfrage()\n",
        "      if eingabe<0:\n",
        "        break\n",
        "      else: \n",
        "        richtig += bewerten (ergebnis, eingabe)\n",
        "      runden += 1\n",
        "  print (f\"Du hast insgesamt {richtig} von {runden} Aufgaben richtig\")\n",
        "  chart_pie(richtig, runden-richtig)\n",
        "\n",
        "spielen()"
      ],
      "metadata": {
        "id": "CnjIrpHqCSVP"
      },
      "execution_count": null,
      "outputs": []
    }
  ]
}
