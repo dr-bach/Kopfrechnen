{
  "nbformat": 4,
  "nbformat_minor": 0,
  "metadata": {
    "colab": {
      "provenance": [],
      "authorship_tag": "ABX9TyPO4M2kI31X+c5t9/Fwi6pU",
      "include_colab_link": true
    },
    "kernelspec": {
      "name": "python3",
      "display_name": "Python 3"
    },
    "language_info": {
      "name": "python"
    }
  },
  "cells": [
    {
      "cell_type": "markdown",
      "metadata": {
        "id": "view-in-github",
        "colab_type": "text"
      },
      "source": [
        "<a href=\"https://colab.research.google.com/github/dr-bach/dr-bach/blob/main/Kopfrechnen_Version_0_1.ipynb\" target=\"_parent\"><img src=\"https://colab.research.google.com/assets/colab-badge.svg\" alt=\"Open In Colab\"/></a>"
      ]
    },
    {
      "cell_type": "markdown",
      "source": [
        "##Kopfrechnen Version 0.1\n",
        "- Additionsaufgabe von zwei Zufallszahlen bis erstellen\n",
        "- Eingabe beurteilen (richtig/falsch)"
      ],
      "metadata": {
        "id": "nPTf63qs1p_-"
      }
    },
    {
      "cell_type": "markdown",
      "source": [
        "Der erste Entwurf des Programms soll folgende Struktur aufweisen:<br>\n",
        "`#aufgabe erstellen`<br>\n",
        "`#ergebnis berechnen`<br>\n",
        "`#eingabe abfragen`<br>\n",
        "`#eingabe bewerten`<br>\n",
        "Wir übertragen diese Struktur als `#Kommentar` und ergänzen darunter den Programmcode, der diese Aufgabe ausführt"
      ],
      "metadata": {
        "id": "TfAYMhFZ2lxb"
      }
    },
    {
      "cell_type": "code",
      "source": [
        "#@title Code Kopfrechnen 0.1\n",
        "\n",
        "#aufgabe erstellen\n",
        "import random\n",
        "a=random.randint(1, 5)\n",
        "b=random.randint(1, 5)\n",
        "print (\"wieviel ist {0} + {1}?\".format(a, b))\n",
        "\n",
        "#ergebnis berechnen\n",
        "ergebnis=a+b\n",
        "\n",
        "#eingabe abfragen\n",
        "eingabe = int(input(\"Dein Ergebnis = \"))\n",
        "\n",
        "#eingabe bewerten\n",
        "if ergebnis==eingabe:\n",
        "  print(\"Richtig\")\n",
        "else:\n",
        "  print(eingabe,\"ist falsch. Das richtige Ergebnis lautet\", ergebnis)"
      ],
      "metadata": {
        "id": "K8Get4dA2aic"
      },
      "execution_count": null,
      "outputs": []
    }
  ]
}