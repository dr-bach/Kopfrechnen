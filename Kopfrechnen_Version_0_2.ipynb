{
  "nbformat": 4,
  "nbformat_minor": 0,
  "metadata": {
    "colab": {
      "provenance": [],
      "collapsed_sections": [],
      "authorship_tag": "ABX9TyPwlz0qbAFUmoAzzp+QMla3",
      "include_colab_link": true
    },
    "kernelspec": {
      "name": "python3",
      "display_name": "Python 3"
    },
    "language_info": {
      "name": "python"
    }
  },
  "cells": [
    {
      "cell_type": "markdown",
      "metadata": {
        "id": "view-in-github",
        "colab_type": "text"
      },
      "source": [
        "<a href=\"https://colab.research.google.com/github/dr-bach/python/blob/main/Kopfrechnen_Version_0_2.ipynb\" target=\"_parent\"><img src=\"https://colab.research.google.com/assets/colab-badge.svg\" alt=\"Open In Colab\"/></a>"
      ]
    },
    {
      "cell_type": "markdown",
      "source": [
        "##Kopfrechnen Version 0.2\n",
        "- Erstellen von Funktionen\n",
        "- Ergebniseingabe absichern\n",
        "- Abfrage mehrerer Aufgaben"
      ],
      "metadata": {
        "id": "WGjdXNOlF0ZT"
      }
    },
    {
      "cell_type": "markdown",
      "source": [
        "Der Entwurf für die nächste Revision enthält einige Ergänzungen:<br>\n",
        "Das Programm erhält mehr Struktur, indem zu Beginn einige Festlegungen getroffen werden, beispielsweise\n",
        "- Bibliotheken einlesen (hier: die Bibliothek für die Erzeugung von Zufallszahlen)\n",
        "- Variable definieren für die Anzahl der Fragen\n",
        "<br>\n",
        "\n",
        "Funktionen sind wesentlich, um Lesbarkeit des Codes zu erhöhen, Fehler zu minimieren und Wiederverwendbarkeit zu ermöglichen. Daher werden wesentliche Programmelemente als Funktion definiert\n",
        "-  `def aufgabe_stellen()`: erstellt die Aufgabe und gibt das Ergebis zurück (`return ergebnis`)\n",
        "-  `def eingabe_bewerten(ergebnis)`: fragt die Eingabe ab, prüft ob es sich dabei um eine Zahl handelt und vergleicht diese mit dem Ergebnis\n",
        "<br>\n",
        "\n",
        "Der eigentliche Programmablauf wird in diesem Teil sichtbar, wo eine `while` Schleife die Funktionen 5-mal durchläuft"
      ],
      "metadata": {
        "id": "vgZnyikjF0ZU"
      }
    },
    {
      "cell_type": "code",
      "source": [
        "#@title Code Kopfrechnen 0.2\n",
        "#Zufallszahlen erzeugen\n",
        "import random\n",
        "\n",
        "#Variablen\n",
        "zähler = 1\n",
        "anzahl_fragen = 5\n",
        "\n",
        "#Funktionen\n",
        "def aufgabe_stellen():\n",
        "  #Zufallsvariable a (liegt zwischen 1 und 5)\n",
        "  a=random.randint(1, 5)\n",
        "  b=random.randint(1, 5)\n",
        "  print (\"Wieviel ist {0} + {1}?\".format(a, b))\n",
        "  ergebnis=a+b\n",
        "  return ergebnis\n",
        "\n",
        "def antwort_bewerten (ergebnis):\n",
        "  while True:\n",
        "    try:\n",
        "      eingabe = int(input(\"Dein Ergebnis = \"))\n",
        "      break\n",
        "    except ValueError:\n",
        "      print(\"Bitte eine Zahl eingeben\")\n",
        "  if ergebnis==eingabe:\n",
        "    print(\"Richtig\\n\")\n",
        "  else:\n",
        "    print(eingabe,\"ist falsch. Das richtige Ergebnis lautet\", ergebnis,\"\\n\")\n",
        "\n",
        "\n",
        "while zähler <= anzahl_fragen:\n",
        "  ergebnis = aufgabe_stellen()\n",
        "  antwort_bewerten (ergebnis)\n",
        "  zähler = zähler + 1"
      ],
      "metadata": {
        "colab": {
          "base_uri": "https://localhost:8080/"
        },
        "id": "HQphAPQNF0ZU",
        "outputId": "eed82939-e229-4d0c-cef1-5b5bbe076b1a"
      },
      "execution_count": 1,
      "outputs": [
        {
          "output_type": "stream",
          "name": "stdout",
          "text": [
            "Wieviel ist 3 + 4?\n",
            "Dein Ergebnis = 7\n",
            "Richtig\n",
            "\n",
            "Wieviel ist 2 + 1?\n",
            "Dein Ergebnis = 3\n",
            "Richtig\n",
            "\n",
            "Wieviel ist 3 + 5?\n",
            "Dein Ergebnis = 7\n",
            "7 ist falsch. Das richtige Ergebnis lautet 8 \n",
            "\n",
            "Wieviel ist 2 + 5?\n",
            "Dein Ergebnis = 7\n",
            "Richtig\n",
            "\n",
            "Wieviel ist 4 + 2?\n",
            "Dein Ergebnis = 6\n",
            "Richtig\n",
            "\n"
          ]
        }
      ]
    }
  ]
}