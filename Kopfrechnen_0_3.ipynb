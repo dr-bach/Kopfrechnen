{
  "nbformat": 4,
  "nbformat_minor": 0,
  "metadata": {
    "colab": {
      "provenance": [],
      "collapsed_sections": [],
      "authorship_tag": "ABX9TyM8q7K5Dib7fuJmP9M31vAN",
      "include_colab_link": true
    },
    "kernelspec": {
      "name": "python3",
      "display_name": "Python 3"
    },
    "language_info": {
      "name": "python"
    }
  },
  "cells": [
    {
      "cell_type": "markdown",
      "metadata": {
        "id": "view-in-github",
        "colab_type": "text"
      },
      "source": [
        "<a href=\"https://colab.research.google.com/github/dr-bach/python/blob/main/Kopfrechnen_Version_0_3.ipynb\" target=\"_parent\"><img src=\"https://colab.research.google.com/assets/colab-badge.svg\" alt=\"Open In Colab\"/></a>"
      ]
    },
    {
      "cell_type": "markdown",
      "source": [
        "##Kopfrechnen Version 0.3\n",
        "- Subtraktion von zwei Zufallszahlen bis 10\n",
        "- weitere Codeabschnitte in Funktionen wandeln (Zufallszahlen, Addition, Subtraktion, Hauptprogramm)\n",
        "- etwas Statistik (Anzahl der richtig gerechneten Aufgaben)"
      ],
      "metadata": {
        "id": "LgG6ft1_S2L_"
      }
    },
    {
      "cell_type": "markdown",
      "source": [
        "Diese Revision soll die Subtraktion einführen und dadurch zwei unterschiedliche Aufgabentypen ermöglichen, die zufällig ausgewählt werden, insbesondere soll das bisherige Hauptprogramm übersichtlicher gestaltet werden. Parallel dazu soll der Code in weitere Funktionen aufgeteilt werden. Die Funktionen Addition und Subtraktion rufen eine Funktion zur Generierung zweier Zufallszahlen (ein sogenanntes Tupel) im Zahlenraum zwischen `min` und `max` auf und geben diese nach der Prüfung zurück.<br>\n",
        "Durch die Übergabe des Zahlenraums wird die Addition des bisherigen Programms dahingehend verbessert, dass auch Zahlen größer 5 addiert werden können, z.B. 1+9=10.<br>\n",
        "Zum Schluss soll es eine kleine statistische Auswertung geben, indem die Anzahl der richtig gerechneten Aufgaben am Ende ausgegeben wird.<br><br>\n",
        "\n",
        "Wir können zu diesem frühen Zeitpunkt erkennen, dass die steigende Komplexität des Programms mehr Struktur erfordert. In der Literatur gibt es dazu verschiedene Ansätze, hier legen wir als interne Richtlinie folgende Punkte fest: \n",
        "- maximal 79 Zeichen pro Zeile (dadurch erhalten wir eine gute Lesbarkeit auf Papier oder Bildschirm - siehe auch vertikale Linie innerhalb der Codefenster), \n",
        "- maximal 30 Codezeilen pro Block (auch hier wäre weniger besser)\n",
        "- maximal 7 Arbeitsschritte pro Block\n",
        "- kommentierte Programmbereiche \n",
        "  - `#initialisierungen`: Import von Bibliotheken und Definition von globalen Variablen\n",
        "  - `#aufgabe erstellen`: Funktionen, die mit der Aufgabenstellung im Zusammenhang stehen\n",
        "  - `#eingabe bewerten`: Funktionen, die die Eingabe und Bewertung durchführen\n",
        "  - `#hauptprogramm`: die primäre Funktion und ihr Aufruf\n",
        "<br>\n",
        "\n",
        "Außerdem versuchen wir, möglichst wenige globale Variablen zu benutzen.<br><br>\n",
        "Diese Regeln werden wir nach und nach erweitern (eine vollständige Liste wird es wohl niemals geben, aber die aktuelle Version findet sich hier)"
      ],
      "metadata": {
        "id": "y9Vu0tXxTsSE"
      }
    },
    {
      "cell_type": "code",
      "source": [
        "#@title Code Kopfrechnen 0.3\n",
        "\n",
        "#initialisierungen\n",
        "\n",
        "import random\n",
        "\n",
        "\n",
        "#aufgabe erstellen\n",
        "\n",
        "def aufgabe_stellen():\n",
        "  rechenart=random.choice([\"+\",\"-\"])\n",
        "  if rechenart == \"+\":\n",
        "    (a,b,ergebnis) = addition(1,10)\n",
        "  else:\n",
        "    (a,b,ergebnis) = subtraktion(1,10)\n",
        "  print (\"wieviel ist {0} {1} {2}?\".format(a, rechenart, b))\n",
        "  return ergebnis\n",
        "\n",
        "def zufallszahlen(min, max):\n",
        "  return(random.randint(min, max),random.randint(min, max))\n",
        "\n",
        "def addition(min, max):\n",
        "  while True:\n",
        "    (a,b)=zufallszahlen(min,max)\n",
        "    if (a+b)<=max:\n",
        "      break\n",
        "  return (a,b,a+b)\n",
        "\n",
        "def subtraktion(min, max):\n",
        "  while True:\n",
        "    (a,b)=zufallszahlen(min,max)\n",
        "    if (a-b)>=min:\n",
        "      break\n",
        "  return (a,b,a-b)\n",
        "\n",
        "\n",
        "#eingabe bewerten\n",
        "\n",
        "def eingabe_bewerten (ergebnis):\n",
        "  while True:\n",
        "    try:\n",
        "      eingabe = int(input(\"Dein Ergebnis = \"))\n",
        "      break\n",
        "    except ValueError:\n",
        "      print(\"Bitte eine Zahl eingeben\")\n",
        "  if ergebnis==eingabe:\n",
        "    print(\"Richtig\\n\")\n",
        "    return 1\n",
        "  else:\n",
        "    print(eingabe,\"ist falsch. Das richtige Ergebnis lautet\", ergebnis,\"\\n\")\n",
        "    return 0\n",
        "  \n",
        "\n",
        "#hauptprogramm\n",
        "\n",
        "def spielen(runden):\n",
        "  print(\"Willkommen beim Kopfrechnen. Dir werden insgesamt werden\", \n",
        "        runden, \"Fragen gestellt\")\n",
        "  index=1\n",
        "  richtig=0\n",
        "  while index <= runden:\n",
        "    ergebnis = aufgabe_stellen()\n",
        "    richtig += eingabe_bewerten (ergebnis)\n",
        "    index +=1\n",
        "  print (\"Du hast {0} von {1} Aufgaben richtig\".format(richtig, runden))\n",
        "\n",
        "  #ergänzung der Kinder\n",
        "  if richtig==5:\n",
        "    print(\"Sehr gut gemacht\")\n",
        "  elif richtig==4:\n",
        "    print(\"Gut gemacht\")\n",
        "  else:\n",
        "    print(\"Vielleicht solltest Du nochmal üben\")\n",
        "\n",
        "\n",
        "spielen(5)"
      ],
      "metadata": {
        "id": "LPoBA-5sS1p_",
        "cellView": "form"
      },
      "execution_count": null,
      "outputs": []
    }
  ]
}
