{
  "nbformat": 4,
  "nbformat_minor": 0,
  "metadata": {
    "colab": {
      "provenance": [],
      "collapsed_sections": [],
      "authorship_tag": "ABX9TyOcsherkFm+2jo8RMJ7MCu7",
      "include_colab_link": true
    },
    "kernelspec": {
      "name": "python3",
      "display_name": "Python 3"
    },
    "language_info": {
      "name": "python"
    }
  },
  "cells": [
    {
      "cell_type": "markdown",
      "metadata": {
        "id": "view-in-github",
        "colab_type": "text"
      },
      "source": [
        "<a href=\"https://colab.research.google.com/github/dr-bach/python/blob/main/Kopfrechnen_Version_0_1.ipynb\" target=\"_parent\"><img src=\"https://colab.research.google.com/assets/colab-badge.svg\" alt=\"Open In Colab\"/></a>"
      ]
    },
    {
      "cell_type": "markdown",
      "source": [
        "##Kopfrechnen Version 0.1\n",
        "- Additionsaufgabe von zwei Zufallszahlen\n",
        "- Eingabe beurteilen (richtig/falsch)"
      ],
      "metadata": {
        "id": "B0RqIpYE9A46"
      }
    },
    {
      "cell_type": "markdown",
      "source": [
        "Zunächst eine kurze Einführung zu Variablen. Variablen kann man sich als Behälter vorstellen, die Informationen wie Zeichenketten (Texte), Zahlen oder Wahrheitswerte (wahr oder falsch) speichern. Zahlen werden unterteilt in Ganzzahlen (..., -2, -1, 0, 1, 2, ...) und Kommazahlen (wobei als Trenner, wie im englischsprachigen Raum üblich, ein Punkt statt ein Komma benutzt wird). Text wird als String gespeichert, Ganzzahlen als Integer, Kommazahlen als Float und Wahrheitswerte als Boolean."
      ],
      "metadata": {
        "id": "eTpo90TS9Ftd"
      }
    },
    {
      "cell_type": "code",
      "source": [
        "text = \"Hallo Welt\"\n",
        "ganzzahl = 1\n",
        "kommazahl = 3.14\n",
        "wahr = True"
      ],
      "metadata": {
        "id": "zrAuHu_HJMqv"
      },
      "execution_count": 1,
      "outputs": []
    },
    {
      "cell_type": "markdown",
      "source": [
        "Für das Programm benötigen wir noch grundlegende Funktionen zur Ein- und Ausgabe.<br>\n",
        "Die Ausgabe erfolgt mit der Funktion `print()`. In der Klammer können Texte, Variablen und Steuerzeichen angegeben werden, die beim Erreichen durch das Programm angezeigt werden (eine leere Klammer führt zu einem Zeilenumbruch). <br>\n",
        "- Texte können in in einfachen oder doppelten Anführungsstrichen stehen (aber nicht gemischt)\n",
        "- Variablen können aus Text und Zahlen bestehen\n",
        "- Das Steuerzeichen /n führt zu einen Zeilenumbruch\n",
        "- Mehrere Text und Variablen können durch Kommata zusammengefügt werden, wobei automatisch ein Leerzeichen eingesetzt wird\n",
        "- mit der Methode .format lassen sich Variablen in geschweiften Klammern angeben, die mit Null beginnend hochgezählt werden\n",
        "- wird ein f hinter die geöffnete Klammer geschrieben, lassen sich Variablennamen direkt in geschweiften Klammern eintragen\n",
        "\n",
        "Tipp: Einfach mal ablaufen lassen und die Einträge modifizieren, um sich mit der Funktion vertraut zu machen"
      ],
      "metadata": {
        "id": "mJUzLqS0fQeP"
      }
    },
    {
      "cell_type": "code",
      "source": [
        "print(\"Hallo Welt\")\n",
        "print(1)\n",
        "print(3.14)\n",
        "print(True)\n",
        "print()\n",
        "\n",
        "print(text)\n",
        "print(ganzzahl)\n",
        "print(kommazahl)\n",
        "print(wahr)\n",
        "print()\n",
        "\n",
        "text = 'Welt'\n",
        "print(\"Hallo\", text, \"\\nmit Zeilenumbruch\")\n",
        "print()\n",
        "\n",
        "print(\"{0} + {1} ist unfähr {2}\".format(ganzzahl,2,kommazahl))\n",
        "print(f\"Hallo {text}!\")\n",
        "print(f\"Der Wert von Pi beträgt ungefähr {kommazahl},\\nPi^2 ist ungefähr {kommazahl*kommazahl}\")\n",
        "print()\n",
        "\n",
        "form = \"*\"\n",
        "print(\"Hier ein paar Formen\")\n",
        "print(5*form)\n",
        "print(50*form)"
      ],
      "metadata": {
        "id": "x8MhZ1YrghJQ",
        "colab": {
          "base_uri": "https://localhost:8080/"
        },
        "outputId": "ea7ed9de-caa0-4639-838a-83f9edd01e31"
      },
      "execution_count": 2,
      "outputs": [
        {
          "output_type": "stream",
          "name": "stdout",
          "text": [
            "Hallo Welt\n",
            "1\n",
            "3.14\n",
            "True\n",
            "\n",
            "Hallo Welt\n",
            "1\n",
            "3.14\n",
            "True\n",
            "\n",
            "Hallo Welt \n",
            "mit Zeilenumbruch\n",
            "\n",
            "1 + 2 ist unfähr 3.14\n",
            "Hallo Welt!\n",
            "Der Wert von Pi beträgt ungefähr 3.14,\n",
            "Pi^2 ist ungefähr 9.8596\n",
            "\n",
            "Hier ein paar Formen\n",
            "*****\n",
            "**************************************************\n"
          ]
        }
      ]
    },
    {
      "cell_type": "markdown",
      "source": [
        "Wir benötigen für das Programm Zufallszahlen. Diese stehen nicht durch normale Funktionen zur Verfügung, sondern müssen aus einer sogenannten Bibliothek extern hinzugefügt werden.<br>\n",
        "Wenn man das Programm mehrfach ausführt, wird jedes Mal eine neue Zufallszahl erzeugt (wobei mehrfach hintereinander dieselbe Zahl \"ausgewürfelt\" werden kann)."
      ],
      "metadata": {
        "id": "CEJiWQAiUh2B"
      }
    },
    {
      "cell_type": "code",
      "source": [
        "import random\n",
        "zufallszahl=random.randint(1, 6)\n",
        "print(f\"Du hast eine {zufallszahl} gewürfelt\")"
      ],
      "metadata": {
        "colab": {
          "base_uri": "https://localhost:8080/"
        },
        "id": "YZ9r_SLpU9Tm",
        "outputId": "09707528-5d61-413a-f29c-f7282adf4f1f"
      },
      "execution_count": null,
      "outputs": [
        {
          "output_type": "stream",
          "name": "stdout",
          "text": [
            "Du hast eine 3 gewürfelt\n"
          ]
        }
      ]
    },
    {
      "cell_type": "markdown",
      "source": [
        "Die Eingabe erfolgt über `input()`, wobei dieser Wert einer Variablen zugewiesen wird, genauer gesagt ein String (Zeichenkette). Zusätzlich kann in Klammern, analog zu `print()`, eine Information vor der eigentlichen Abfrage ausgegeben werden (diese darf jedoch nicht aus zusammengesetzten Elementen bestehen).<br>\n",
        "Soll die Eingabe als Zahl interpretiert werden, muss sie entsprechend umgewandelt werden (die Schlüsselwörter sind hier `int` für eine Ganzzahl und `float` für eine Kommazahl). Leereingaben sowie nicht-Zahlen (außer wissenschaftliche Notationen wie `1e3`) führen zu einem Fehler. Wie wir solch einen Fehler abfangen, lernen wir in einem späteren Revision."
      ],
      "metadata": {
        "id": "RknTuLzquFjA"
      }
    },
    {
      "cell_type": "code",
      "source": [
        "eingabe = input()\n",
        "print (eingabe)\n",
        "print()\n",
        "\n",
        "zahl = int(input(\"Deine Lieblingsganzzahl = \"))\n",
        "print (zahl)\n",
        "print()\n",
        "\n",
        "text = \"Deine Lieblingskommazahl = \"\n",
        "zahl = float(input(text))\n",
        "print (zahl)"
      ],
      "metadata": {
        "colab": {
          "base_uri": "https://localhost:8080/"
        },
        "id": "tlMgxZCpy3ZG",
        "outputId": "46dd4f5e-5026-45b8-d9b3-12e615d6a2a4"
      },
      "execution_count": 3,
      "outputs": [
        {
          "output_type": "stream",
          "name": "stdout",
          "text": [
            "meine Eingabe\n",
            "meine Eingabe\n",
            "\n",
            "Deine Lieblingsganzzahl = 7\n",
            "7\n",
            "\n",
            "Deine Lieblingskommazahl = 3.14\n",
            "3.14\n"
          ]
        }
      ]
    },
    {
      "cell_type": "markdown",
      "source": [
        "Zum Schluss legen wir noch die Struktur für den ersten Entwurfs des Programms fest:<br>\n",
        "`#zufallszahlen ausdenken`<br>\n",
        "`#aufgabe anzeigen`<br>\n",
        "`#ergebnis berechnen`<br>\n",
        "`#antwort abfragen`<br>\n",
        "`#antwort bewerten`<br><br>\n",
        "Wir übertragen diese Struktur als `#Kommentar` und ergänzen darunter den Programmcode, der diese Aufgabe ausführt."
      ],
      "metadata": {
        "id": "zdbapO2R9A49"
      }
    },
    {
      "cell_type": "code",
      "source": [
        "#@title Code Kopfrechnen 0.1\n",
        "\n",
        "#zufallszahlen ausdenken\n",
        "import random\n",
        "a=random.randint(1, 5)\n",
        "b=random.randint(1, 5)\n",
        "\n",
        "#aufgabe anzeigen\n",
        "print (\"Wieviel ist\", a, \"+\", b, \"?\")\n",
        "\n",
        "#ergebnis berechnen\n",
        "ergebnis  = a + b\n",
        "\n",
        "#antwort abfragen\n",
        "antwort = int(input(\"Dein Ergebnis = \"))\n",
        "\n",
        "#antwort bewerten\n",
        "if ergebnis==antwort:\n",
        "  print(\"Richtig\")\n",
        "else:\n",
        "  print(antwort,\"ist falsch. Das richtige Ergebnis lautet\", ergebnis)"
      ],
      "metadata": {
        "colab": {
          "base_uri": "https://localhost:8080/"
        },
        "id": "GSuQxhyz9A49",
        "outputId": "38bb9ffb-36e9-401a-f03a-b8d4752adf22"
      },
      "execution_count": 4,
      "outputs": [
        {
          "output_type": "stream",
          "name": "stdout",
          "text": [
            "Wieviel ist 5 + 5 ?\n",
            "Dein Ergebnis = 10\n",
            "Richtig\n"
          ]
        }
      ]
    }
  ]
}
